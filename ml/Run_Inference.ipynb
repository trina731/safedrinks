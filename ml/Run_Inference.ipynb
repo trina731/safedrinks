{
 "cells": [
  {
   "cell_type": "code",
   "execution_count": 2,
   "metadata": {},
   "outputs": [],
   "source": [
    "from azureml.core import Workspace\n",
    "ws = Workspace.from_config(path=\"./config.json\")"
   ]
  },
  {
   "cell_type": "code",
   "execution_count": 11,
   "metadata": {},
   "outputs": [
    {
     "name": "stdout",
     "output_type": "stream",
     "text": [
      "http://13.87.230.119:80/api/v1/service/hr-prediction2/score\n",
      "http://13.87.230.119:80/api/v1/service/hr-prediction2/swagger.json\n"
     ]
    }
   ],
   "source": [
    "from azureml.core.webservice import AksWebservice, Webservice\n",
    "service = Webservice(workspace=ws, name='hr-prediction2')\n",
    "print(services[0].scoring_uri)\n",
    "print(services[0].swagger_uri)\n",
    "# uV9vFguDxaHw6szpb1nIGgbBqRJgsa5A"
   ]
  },
  {
   "cell_type": "code",
   "execution_count": 10,
   "metadata": {},
   "outputs": [
    {
     "name": "stdout",
     "output_type": "stream",
     "text": [
      "200\n",
      "0:00:00.015092\n",
      "[0.4, 0.4401268347274348]\n"
     ]
    }
   ],
   "source": [
    "import requests\n",
    "import json\n",
    "\n",
    "headers = {'Content-Type': 'application/json',\n",
    "           'Authorization': 'Bearer ' + service.get_keys()[0]}\n",
    "\n",
    "test_sample = json.dumps({'data': [\n",
    "    [0.5], [0.6]\n",
    "]})\n",
    "\n",
    "response = requests.post(\n",
    "    service.scoring_uri, data=test_sample, headers=headers)\n",
    "print(response.status_code)\n",
    "print(response.elapsed)\n",
    "print(response.json())"
   ]
  },
  {
   "cell_type": "code",
   "execution_count": null,
   "metadata": {},
   "outputs": [],
   "source": []
  }
 ],
 "metadata": {
  "kernelspec": {
   "display_name": "Python 3",
   "language": "python",
   "name": "python3"
  },
  "language_info": {
   "codemirror_mode": {
    "name": "ipython",
    "version": 3
   },
   "file_extension": ".py",
   "mimetype": "text/x-python",
   "name": "python",
   "nbconvert_exporter": "python",
   "pygments_lexer": "ipython3",
   "version": "3.8.1"
  }
 },
 "nbformat": 4,
 "nbformat_minor": 4
}
